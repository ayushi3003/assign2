{
  "metadata": {
    "kernelspec": {
      "name": "python",
      "display_name": "Pyolite",
      "language": "python"
    },
    "language_info": {
      "codemirror_mode": {
        "name": "python",
        "version": 3
      },
      "file_extension": ".py",
      "mimetype": "text/x-python",
      "name": "python",
      "nbconvert_exporter": "python",
      "pygments_lexer": "ipython3",
      "version": "3.8"
    }
  },
  "nbformat_minor": 4,
  "nbformat": 4,
  "cells": [
    {
      "cell_type": "markdown",
      "source": "<center>\n    <img src=\"https://s3-api.us-geo.objectstorage.softlayer.net/cf-courses-data/CognitiveClass/Logos/organization_logo/organization_logo.png\" width=\"300\" alt=\"cognitiveclass.ai logo\"  />\n</center>\n",
      "metadata": {}
    },
    {
      "cell_type": "markdown",
      "source": "#### Add your code below following the instructions given in the course\n",
      "metadata": {}
    },
    {
      "cell_type": "markdown",
      "source": "<H1>My Jupyter Notebook on IBM Watson Studio<H1>",
      "metadata": {}
    },
    {
      "cell_type": "markdown",
      "source": "<b>Ayushi Kandpal</b>\n<br>\ncollege student",
      "metadata": {}
    },
    {
      "cell_type": "markdown",
      "source": "<i>I am interested in Data Science as I want to be a Data Scientist in IT industry.I have a passion for using data to draw meaningful conclusions about a company's growth.I appreciate when I can draw insight from data and help build actionable solutions.I like to organize the data based on the response time and satisfaction level.Having command of Data Science it will personally help me to make good decisions.</i>",
      "metadata": {}
    },
    {
      "cell_type": "markdown",
      "source": "<h2>The following code will display sum of two numbers</h2>",
      "metadata": {}
    },
    {
      "cell_type": "code",
      "source": "a=7\nb=3\nsum=a+b\nprint(sum)",
      "metadata": {
        "trusted": true
      },
      "execution_count": 8,
      "outputs": [
        {
          "name": "stdout",
          "text": "10\n",
          "output_type": "stream"
        }
      ]
    },
    {
      "cell_type": "markdown",
      "source": "<!DOCTYPE html>\n<html lang=\"en\">\n    <body><h1>My favorite fruits are as follows:-</h1>\n        <ul type=\"square\">\n            <li>Grapes</li>\n            <li>Pineapple</li>\n            <li>Apple</li>\n            <li>Mango</li>\n            <li>Orange</li>\n        </ul>\n        <hr>\n        <h1>My favorite vegetables are as follows:-</h1>\n        <ol type=\"1\">\n            <li>Spinach</li>\n            <li>Cabbage</li>\n            <li>Cauliflower</li>\n            <li>Beetroot</li>\n            <li>Carrot</li>\n        </ol>\n    </body>\n    </html>",
      "metadata": {}
    },
    {
      "cell_type": "code",
      "source": "",
      "metadata": {},
      "execution_count": null,
      "outputs": []
    }
  ]
}